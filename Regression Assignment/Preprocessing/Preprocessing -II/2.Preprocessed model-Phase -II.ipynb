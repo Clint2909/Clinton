{
 "cells": [
  {
   "cell_type": "code",
   "execution_count": 1,
   "id": "beea5c88-f851-4431-b7fd-e58b40ef3569",
   "metadata": {},
   "outputs": [
    {
     "name": "stderr",
     "output_type": "stream",
     "text": [
      "C:\\Anaconda\\Lib\\site-packages\\sklearn\\base.py:493: UserWarning: X does not have valid feature names, but StandardScaler was fitted with feature names\n",
      "  warnings.warn(\n"
     ]
    },
    {
     "data": {
      "text/plain": [
       "array([[-1.03327874, -0.6823158 , -0.89833872,  1.02378711, -0.50466988]])"
      ]
     },
     "execution_count": 1,
     "metadata": {},
     "output_type": "execute_result"
    }
   ],
   "source": [
    "import pickle\n",
    "\n",
    "loaded_scx=pickle.load(open(\"scx.pkl\",'rb'))\n",
    "R_input =([[25,26.5,0,1,0]])\n",
    "\n",
    "preinput= loaded_scx.transform(R_input)\n",
    "preinput "
   ]
  },
  {
   "cell_type": "code",
   "execution_count": 2,
   "id": "d35d8137-d88b-4957-883a-0d6af683be0e",
   "metadata": {},
   "outputs": [],
   "source": [
    "loaded_model=pickle.load(open('finalized_model_DecisionTree.sav','rb'))\n",
    "result=loaded_model.predict(preinput)"
   ]
  },
  {
   "cell_type": "code",
   "execution_count": 3,
   "id": "b3febf0d-881a-4e59-83f7-71c0afec9bd1",
   "metadata": {},
   "outputs": [
    {
     "data": {
      "text/plain": [
       "array([[1815.8759]])"
      ]
     },
     "execution_count": 3,
     "metadata": {},
     "output_type": "execute_result"
    }
   ],
   "source": [
    "loaded_scy=pickle.load(open(\"scy.pkl\",'rb'))\n",
    "preoutput=loaded_scy.inverse_transform([result])\n",
    "preoutput"
   ]
  }
 ],
 "metadata": {
  "kernelspec": {
   "display_name": "Python 3 (ipykernel)",
   "language": "python",
   "name": "python3"
  },
  "language_info": {
   "codemirror_mode": {
    "name": "ipython",
    "version": 3
   },
   "file_extension": ".py",
   "mimetype": "text/x-python",
   "name": "python",
   "nbconvert_exporter": "python",
   "pygments_lexer": "ipython3",
   "version": "3.12.4"
  }
 },
 "nbformat": 4,
 "nbformat_minor": 5
}
