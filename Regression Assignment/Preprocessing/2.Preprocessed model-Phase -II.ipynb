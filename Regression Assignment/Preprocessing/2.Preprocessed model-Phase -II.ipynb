{
 "cells": [
  {
   "cell_type": "code",
   "execution_count": 1,
   "id": "8bec098c-ee11-41f1-80fe-dfc0ff6014fe",
   "metadata": {},
   "outputs": [],
   "source": [
    "import pandas as pd\n",
    "import pickle"
   ]
  },
  {
   "cell_type": "code",
   "execution_count": 2,
   "id": "3ad04742-a117-44bf-abf8-f6f08f8ec686",
   "metadata": {},
   "outputs": [],
   "source": [
    "dataset=pd.read_csv('insurance_pre.csv')\n",
    "dataset=pd.get_dummies(dataset,dtype=int,drop_first=True)\n",
    "independent=dataset[['age', 'bmi', 'children','sex_male', 'smoker_yes' ]]\n",
    "dependent=dataset[['charges']]\n",
    "from sklearn.model_selection  import train_test_split\n",
    "X_train,X_test,y_train,y_test=train_test_split(independent,dependent,test_size=0.30,random_state=0)"
   ]
  },
  {
   "cell_type": "code",
   "execution_count": 3,
   "id": "11a1bb79-d2f9-4859-b663-8d2eb0d68513",
   "metadata": {},
   "outputs": [],
   "source": [
    "from sklearn.preprocessing import StandardScaler\n",
    "sc=StandardScaler()\n",
    "X_train=sc.fit_transform(X_train)\n",
    "X_test=sc.transform(X_test) \n",
    "\n",
    "scy=StandardScaler()\n",
    "y_train=scy.fit_transform(y_train)\n",
    "y_test=scy.transform(y_test) "
   ]
  },
  {
   "cell_type": "code",
   "execution_count": 4,
   "id": "bfd33713-5b2f-4c46-970b-1f4a1f927d03",
   "metadata": {},
   "outputs": [
    {
     "name": "stderr",
     "output_type": "stream",
     "text": [
      "C:\\Anaconda\\Lib\\site-packages\\sklearn\\base.py:493: UserWarning: X does not have valid feature names, but StandardScaler was fitted with feature names\n",
      "  warnings.warn(\n"
     ]
    },
    {
     "data": {
      "text/plain": [
       "array([[-1.03327874, -0.6823158 , -0.89833872,  1.02378711, -0.50466988]])"
      ]
     },
     "execution_count": 4,
     "metadata": {},
     "output_type": "execute_result"
    }
   ],
   "source": [
    "preinput=sc.transform([[25,26.5,0,1,0]])\n",
    "preinput"
   ]
  },
  {
   "cell_type": "code",
   "execution_count": 5,
   "id": "d35d8137-d88b-4957-883a-0d6af683be0e",
   "metadata": {},
   "outputs": [],
   "source": [
    "loaded_model=pickle.load(open('finalized_model_DecisionTree.sav','rb'))\n",
    "result=loaded_model.predict(preinput)"
   ]
  },
  {
   "cell_type": "code",
   "execution_count": 6,
   "id": "e978b6e0-5192-4933-903d-f6b8312c3fa4",
   "metadata": {},
   "outputs": [
    {
     "data": {
      "text/plain": [
       "array([[3309.7926]])"
      ]
     },
     "execution_count": 6,
     "metadata": {},
     "output_type": "execute_result"
    }
   ],
   "source": [
    "preoutput=scy.inverse_transform([result])\n",
    "preoutput"
   ]
  }
 ],
 "metadata": {
  "kernelspec": {
   "display_name": "Python 3 (ipykernel)",
   "language": "python",
   "name": "python3"
  },
  "language_info": {
   "codemirror_mode": {
    "name": "ipython",
    "version": 3
   },
   "file_extension": ".py",
   "mimetype": "text/x-python",
   "name": "python",
   "nbconvert_exporter": "python",
   "pygments_lexer": "ipython3",
   "version": "3.12.4"
  }
 },
 "nbformat": 4,
 "nbformat_minor": 5
}
