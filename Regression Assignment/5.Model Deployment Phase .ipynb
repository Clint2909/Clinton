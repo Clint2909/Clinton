{
 "cells": [
  {
   "cell_type": "code",
   "execution_count": 1,
   "id": "154add30-5116-461d-8f7e-e028d28e60e4",
   "metadata": {},
   "outputs": [],
   "source": [
    "import pickle"
   ]
  },
  {
   "cell_type": "code",
   "execution_count": 2,
   "id": "562ef7cd-e67e-4548-820f-9ec1e2615d3f",
   "metadata": {},
   "outputs": [],
   "source": [
    "loaded_model=pickle.load(open('finalized_model_RForest.sav','rb'))\n",
    "result=loaded_model.predict([[25,26.5,0,1,0]])"
   ]
  },
  {
   "cell_type": "code",
   "execution_count": 3,
   "id": "1b185004-f8da-4416-a783-5ba34c276f48",
   "metadata": {},
   "outputs": [
    {
     "data": {
      "text/plain": [
       "array([16174.75339975])"
      ]
     },
     "execution_count": 3,
     "metadata": {},
     "output_type": "execute_result"
    }
   ],
   "source": [
    "result"
   ]
  }
 ],
 "metadata": {
  "kernelspec": {
   "display_name": "Python 3 (ipykernel)",
   "language": "python",
   "name": "python3"
  },
  "language_info": {
   "codemirror_mode": {
    "name": "ipython",
    "version": 3
   },
   "file_extension": ".py",
   "mimetype": "text/x-python",
   "name": "python",
   "nbconvert_exporter": "python",
   "pygments_lexer": "ipython3",
   "version": "3.12.4"
  }
 },
 "nbformat": 4,
 "nbformat_minor": 5
}
